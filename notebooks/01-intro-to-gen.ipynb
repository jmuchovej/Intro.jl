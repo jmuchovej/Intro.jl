{
 "cells": [
  {
   "cell_type": "markdown",
   "id": "f8b32a99",
   "metadata": {},
   "source": [
    "# Introduction to `Gen.jl`\n",
    "\n",
    "By: John Muchovej\n",
    "\n",
    "<small>Though this notebook is heavily inspired by the \"Introduction to Modeling in Gen\" from Gen's tutorial series</small>"
   ]
  },
  {
   "cell_type": "code",
   "execution_count": null,
   "id": "9c4597ae",
   "metadata": {
    "tags": []
   },
   "outputs": [],
   "source": [
    "# Today's imports\n",
    "using Gen\n",
    "using Plots\n",
    "plotly()\n",
    "\n",
    "push!(LOAD_PATH, pwd())\n",
    "# `Intro` is the `Intro.jl` file colocated with these notebooks. We abstract rendering\n",
    "#   code away into this file to avoid getting sidetracked with lots of rendering code.\n",
    "import Intro\n",
    ";"
   ]
  },
  {
   "cell_type": "markdown",
   "id": "13e759d1",
   "metadata": {},
   "source": [
    "`Gen` programs are a mix of probabilistic models built using the `Gen` modeling language\n",
    "along with inference programs written in regular Julia code."
   ]
  },
  {
   "cell_type": "markdown",
   "id": "2cfe11af",
   "metadata": {},
   "source": [
    "## Probabilistic models as generative functions\n",
    "\n",
    "`Gen` represents probabilitics models as \"generative functions\". We can do this\n",
    "by using Gen's [modeling DSL][modeling]. **This boils down to using writing\n",
    "typical Julia code, then macroing (annotating) particular sections with Gen's\n",
    "macros.**\n",
    "\n",
    "We denote generative functions by prefixing the `@gen` macro to a regular\n",
    "function definition. This function represents the data-generation process we're\n",
    "modeling. Randoms choices can be thought of as random variables within a model.\n",
    "\n",
    "The function below is a probabilistic model of a linear relationship in the 2D\n",
    "coordinate space $(x, y)$. Given $x$ coordinates, this model randomly chooses a\n",
    "line in the plane and generates corresponding $y$ values for that each $(x, y)$\n",
    "is near the line.\n",
    "\n",
    "Real-world analogies would be modeling the volume of a gas from it's observed\n",
    "temperature or modeling housing prices as a function of square footage.\n",
    "\n",
    "[modeling]: https://www.gen.dev/dev/ref/modeling/"
   ]
  },
  {
   "cell_type": "code",
   "execution_count": null,
   "id": "925ab268",
   "metadata": {
    "tags": []
   },
   "outputs": [],
   "source": [
    "@gen function linear_model(xs::Vector{Float64})\n",
    "    n = length(xs)\n",
    "    \n",
    "    # We begin by sampling a slope and an intercept for the line. Before we have seen\n",
    "    #   the data, we don't know the values of these parameters, so we treat them as\n",
    "    #   random choices. The distributions they are drawn from represent our prior\n",
    "    #   beliefs about the parameters: in this case, that neither the slope nor the\n",
    "    #   intercept will be more than a couple of points away from 0.\n",
    "    slope = @trace(normal(0, 1), :slope)\n",
    "    intercept = @trace(normal(0, 2), :intercept)\n",
    "    \n",
    "    # Given the slope and intercept, we can sample $y$ coordinates for each of the $x$\n",
    "    #   coordinatoes in our input vector.\n",
    "    for (idx, x) in enumerate(xs)\n",
    "        @trace(normal(slope * x + intercept, 0.1), (:y, idx))\n",
    "    end\n",
    "    \n",
    "    # When using Gen, the return value of a model is often unimportant.\n",
    "    # Here, though, we simply return `n` – the number of points.\n",
    "    return n\n",
    "end\n",
    ";"
   ]
  },
  {
   "cell_type": "markdown",
   "id": "7d3f3668",
   "metadata": {},
   "source": [
    "Our function `linear_model` consumes a `Vector` of $x$-coordinates, so let's\n",
    "create one below."
   ]
  },
  {
   "cell_type": "code",
   "execution_count": null,
   "id": "eadeff90",
   "metadata": {
    "tags": []
   },
   "outputs": [],
   "source": [
    "xs = collect(-5:1:5) .|> Float64\n",
    ";"
   ]
  },
  {
   "cell_type": "markdown",
   "id": "4bdaa79c",
   "metadata": {},
   "source": [
    "Given `xs`, `linear_model` samples a `:slope` from a\n",
    "$\\mathcal{N}(\\mu=0, \\sigma=1)$ (a Normal distribution with mean, $\\mu=0$, and\n",
    "standard deviation, $\\sigma=1$) and an `:intercept` from a\n",
    "$\\mathcal{N}(\\mu=0, \\sigma=2)$.\n",
    "\n",
    "These distributions from which we draw `:slope` and `:intercept` are our\n",
    "_prior distributions_ over the `:slope` and `:intercept`, respectively.\n",
    "\n",
    "We then sample $y$-coordinates from each of the $x$ coordinates with $\\sigma=0.1$.\n",
    "\n",
    "Finally, we return the `length(xs)` (or, the number of data points)."
   ]
  },
  {
   "cell_type": "code",
   "execution_count": null,
   "id": "08256b19",
   "metadata": {
    "tags": []
   },
   "outputs": [],
   "source": [
    "n = linear_model(xs)\n",
    "display(n)"
   ]
  },
  {
   "cell_type": "markdown",
   "id": "c1ec91e1",
   "metadata": {},
   "source": [
    "However, `n` isn't all that interesting, the values of random choices within\n",
    "`linear_model` are quite interesting, though. You'll notice the `@trace` macros\n",
    "attached to each of `:slope`, `:intercept`, and `(:y, idx)`. These are **addresses**\n",
    "and **`Gen` requires** that they be **unique**.\n",
    "\n",
    "Addresses can be any valid Julia value, however we will be using `Symbol`s\n",
    "exclusively, today. In `linear_model`, you'll notice we use one of `Symbol` or\n",
    "`(Symbol, Integer)`. Though we `@trace` in a `for` loop, because we increment\n",
    "`idx`, we maintain unique addresses.\n",
    "\n",
    "`@gen` models actually track each `@trace` (_execution trace_), so we may access\n",
    "their values even though we don't explicitly return them.\n",
    "\n",
    "We can run `linear_model` with [`Gen.simulate`][simulate] to obtain it's trace.\n",
    "\n",
    "[simulate]: https://www.gen.dev/dev/ref/gfi/#Gen.simulate"
   ]
  },
  {
   "cell_type": "code",
   "execution_count": null,
   "id": "3714fc4a",
   "metadata": {
    "tags": []
   },
   "outputs": [],
   "source": [
    "trace = Gen.simulate(linear_model, (xs, ))\n",
    ";"
   ]
  },
  {
   "cell_type": "markdown",
   "id": "f84a2990",
   "metadata": {},
   "source": [
    "`Gen.simulate` takes a function to be executed and a tuple of positional\n",
    "arguments to the function. Then it returns a `trace`, which is a rather complex\n",
    "data structure (see below)."
   ]
  },
  {
   "cell_type": "code",
   "execution_count": null,
   "id": "f71f971a",
   "metadata": {
    "tags": []
   },
   "outputs": [],
   "source": [
    "display(trace)"
   ]
  },
  {
   "cell_type": "markdown",
   "id": "d8b063ab",
   "metadata": {},
   "source": [
    "An execution trace tracks many components of a particular run of our function.\n",
    "For example, we can retrieve the arguments passed to the function using\n",
    "[`Gen.get_args`][get_args].\n",
    "\n",
    "[get_args]: https://www.gen.dev/dev/ref/gfi/#Gen.get_args"
   ]
  },
  {
   "cell_type": "code",
   "execution_count": null,
   "id": "f612dc3b",
   "metadata": {
    "tags": []
   },
   "outputs": [],
   "source": [
    "Gen.get_args(trace)"
   ]
  },
  {
   "cell_type": "markdown",
   "id": "7a3d874c",
   "metadata": {},
   "source": [
    "We can also retrieve the random choices made. These values are stored in a\n",
    "`Gen.choicemap` (more on this later). You can use [`Gen.get_choices`][get_choices]\n",
    "to inspect the random choices made.\n",
    "\n",
    "[get_choices]: https://www.gen.dev/dev/ref/gfi/#Gen.get_choices"
   ]
  },
  {
   "cell_type": "code",
   "execution_count": null,
   "id": "cb29aaf9",
   "metadata": {
    "tags": []
   },
   "outputs": [],
   "source": [
    "Gen.get_choices(trace)"
   ]
  },
  {
   "cell_type": "markdown",
   "id": "e6020193",
   "metadata": {},
   "source": [
    "We can also access individual choices much like a `Dictionary`."
   ]
  },
  {
   "cell_type": "code",
   "execution_count": null,
   "id": "be2fc304",
   "metadata": {
    "tags": []
   },
   "outputs": [],
   "source": [
    "choices = Gen.get_choices(trace)\n",
    "choices[:slope]"
   ]
  },
  {
   "cell_type": "markdown",
   "id": "3bc9a94d",
   "metadata": {},
   "source": [
    "However, each execution trace has appropriate functions to allow retrieving\n",
    "choices directly from the `trace` without needing `Gen.get_choices`."
   ]
  },
  {
   "cell_type": "code",
   "execution_count": null,
   "id": "cd56f1fc",
   "metadata": {
    "tags": []
   },
   "outputs": [],
   "source": [
    "trace[:slope]"
   ]
  },
  {
   "cell_type": "markdown",
   "id": "d8a0dc10",
   "metadata": {},
   "source": [
    "Additionally, we can inspect the return value of a trace using\n",
    "[`Gen.get_retval`][get_retval].\n",
    "\n",
    "[get_retval]: https://www.gen.dev/dev/ref/gfi/#Gen.get_retval"
   ]
  },
  {
   "cell_type": "code",
   "execution_count": null,
   "id": "99b773bc",
   "metadata": {
    "tags": []
   },
   "outputs": [],
   "source": [
    "Gen.get_retval(trace)"
   ]
  },
  {
   "cell_type": "markdown",
   "id": "972b4637",
   "metadata": {},
   "source": [
    "### Aside: Visualizing outputs\n",
    "\n",
    "It's often useful to visualize traces to better understand the behavior of our\n",
    "generative functions. `render_line` (below) uses `Plots` to render a trace of\n",
    "our `linear_model` with options to show $(x, y)$ data points alongside the line."
   ]
  },
  {
   "cell_type": "code",
   "execution_count": null,
   "id": "e8805107",
   "metadata": {
    "tags": []
   },
   "outputs": [],
   "source": [
    "function render_line(trace, title; show_points=true, overlay=false)\n",
    "    # Get `xs` from the trace\n",
    "    (trace_xs, ) = Gen.get_args(trace)\n",
    "    \n",
    "    slope = trace[:slope]\n",
    "    intercept = trace[:intercept]\n",
    "    endx = [minimum(xs), maximum(xs)]\n",
    "    endy = slope * endx .+ intercept\n",
    "    \n",
    "    info = Intro.PlotMetadata(\n",
    "        title, trace, endx, endy;\n",
    "        show_points=show_points, overlay=overlay\n",
    "    )\n",
    "    \n",
    "    return Intro.plot_data(info)\n",
    "end\n",
    ";"
   ]
  },
  {
   "cell_type": "code",
   "execution_count": null,
   "id": "8d07fe1b",
   "metadata": {
    "tags": []
   },
   "outputs": [],
   "source": [
    "render_line(trace, \"linear\")"
   ]
  },
  {
   "cell_type": "markdown",
   "id": "09798acc",
   "metadata": {},
   "source": [
    "However, we should also have a way of inspecting many runs to better understand\n",
    "a given function's behavior. We'll use `render_grid` to visualize many runs."
   ]
  },
  {
   "cell_type": "code",
   "execution_count": null,
   "id": "079b8a60",
   "metadata": {
    "tags": []
   },
   "outputs": [],
   "source": [
    "traces = [Gen.simulate(linear_model, (xs, )) for _=1:12]\n",
    "Intro.render_grid(render_line, traces; title=\"line\")"
   ]
  },
  {
   "cell_type": "markdown",
   "id": "058ed6b6",
   "metadata": {},
   "source": [
    "### Exercise: Using the same `@trace` address twice"
   ]
  },
  {
   "cell_type": "code",
   "execution_count": null,
   "id": "a46dee4c",
   "metadata": {},
   "outputs": [],
   "source": [
    "@gen function doublescale(xs::Vector)\n",
    "    scale = @trace(normal(0, 1), :scale)\n",
    "    xs = xs .* scale\n",
    "    scale = @trace(normal(0, 1), :scale)\n",
    "    return xs .* scale\n",
    "end;"
   ]
  },
  {
   "cell_type": "code",
   "execution_count": null,
   "id": "f97371fc-ab86-4ebf-9610-c93301c13425",
   "metadata": {},
   "outputs": [],
   "source": [
    "Gen.simulate(doublescale, (xs, ))"
   ]
  },
  {
   "cell_type": "markdown",
   "id": "4f005428",
   "metadata": {},
   "source": [
    "### Exercise: \"Probabilistic\" Sine Wave\n",
    "\n",
    "Write a model to generate a sine wave, but with random phase, period, and\n",
    "amplitude. Then, generate $y$-coordinates from a given vector of $x$-coordinates\n",
    "by adding noise to the value of the wave at each $x$-coordinate.\n",
    "\n",
    "Use the following priors (cf. [`Gen.gamma`][gamma] and [`Gen.uniform`][unif]):\n",
    "- `gamma(5, 1)` for the `period`\n",
    "- `gamma(1, 1)` for the `amplitude`\n",
    "- `uniform(0, 2π)` for the `phase`\n",
    "\n",
    "Also, write a function that renders the `trace` by showing the data points and\n",
    "the computed sine wave. Then, visualize a grid of traces and discuss the\n",
    "distribution. _Try tweaking the parameters of each our priors to see how the \n",
    "behavior changes._\n",
    "\n",
    "[gamma]: https://www.gen.dev/dev/ref/distributions/#Gen.gamma\n",
    "[gamma]: https://www.gen.dev/dev/ref/distributions/#Gen.uniform"
   ]
  },
  {
   "cell_type": "code",
   "execution_count": null,
   "id": "ff2d4416",
   "metadata": {},
   "outputs": [],
   "source": [
    "@gen function sine_model(xs::Vector{Float64})::Number\n",
    "    n = length(xs)\n",
    "    \n",
    "    phase ~ uniform(0, 2π)\n",
    "    period ~ gamma(5, 1)\n",
    "    amplitude ~ gamma(1, 1)\n",
    "    \n",
    "    for (idx, x) in enumerate(xs)\n",
    "        μ = amplitude * sin(2π * x / period + phase)\n",
    "        @trace(normal(μ, 0.1), (:y, idx))\n",
    "    end\n",
    "    \n",
    "    return n\n",
    "end\n",
    ";"
   ]
  },
  {
   "cell_type": "code",
   "execution_count": null,
   "id": "5f613bef-61b7-4277-8263-efbee05d7711",
   "metadata": {},
   "outputs": [],
   "source": [
    "function render_sine(trace, title; show_points=true, overlay=true)\n",
    "    xs = Gen.get_args(trace)[1]\n",
    "    xlims = [minimum(xs), maximum(xs)]\n",
    "    \n",
    "    phase = trace[:phase]\n",
    "    period = trace[:period]\n",
    "    amplitude = trace[:amplitude]\n",
    "    \n",
    "    plot_xs = collect(range(xlims...; length=1_000))\n",
    "    plot_ys = amplitude * sin.(2π * plot_xs / period .+ phase)\n",
    "    \n",
    "    info = Intro.PlotMetadata(\n",
    "        title, trace, plot_xs, plot_ys;\n",
    "        show_points=show_points, overlay=overlay\n",
    "    )\n",
    "    return Intro.plot_data(info)\n",
    "end\n",
    ";"
   ]
  },
  {
   "cell_type": "code",
   "execution_count": null,
   "id": "08f458f5-3eee-42de-bb43-846af15fe4a3",
   "metadata": {},
   "outputs": [],
   "source": [
    "traces = [Gen.simulate(sine_model, (xs, )) for _=1:12]\n",
    "Intro.render_grid(render_sine, traces; title=\"sin\")"
   ]
  },
  {
   "cell_type": "markdown",
   "id": "c7022ad6",
   "metadata": {},
   "source": [
    "## Doing posterior inference\n",
    "\n",
    "We now will provide a dataset of $y$-coordinates and try to draw inferences about the process that generated the data. We begin with the following dataset:"
   ]
  },
  {
   "cell_type": "code",
   "execution_count": null,
   "id": "4276f5d2",
   "metadata": {
    "tags": []
   },
   "outputs": [],
   "source": [
    "ys = [6.75003, 6.1568, 4.26414, 1.84894, 3.09686, 1.94026, 1.36411, -0.83959, -0.976, -1.93363, -2.91303]\n",
    "scatter(xs, ys, color=:green, size=(600, 600))"
   ]
  },
  {
   "cell_type": "markdown",
   "id": "63581159",
   "metadata": {},
   "source": [
    "Now, let's write an _inference program_ (`infer`) that takes a model we assume\n",
    "generated our data, the dataset, and the number of steps we would like to\n",
    "perform. `infer` will then return a trace of the function that is approximately\n",
    "sampled from the _posterior distribution_ on traces of the function, given the\n",
    "observed data.\n",
    "\n",
    "That is, `infer` will try to find a trace that explains our created dataset\n",
    "well. We can inspect the trace to find estimates of the `:slope` and\n",
    "`:intercept` of a line that fits the data.\n",
    "\n",
    "Functions like `Gen.importance_resampling` expect a `model` and a `choicemap`\n",
    "representing our dataset and relating it to our `model`.\n",
    "A `choicemap` will map the random choice addresses in `linear_model` to values\n",
    "from our dataset `ys`. For example, the 4th value in our dataset (`y[4]`) will\n",
    "be tied to `(:y, 4)`."
   ]
  },
  {
   "cell_type": "code",
   "execution_count": null,
   "id": "74fbd434",
   "metadata": {
    "tags": []
   },
   "outputs": [],
   "source": [
    "function infer(model, xs::Vector, ys::Vector, steps::Int64, args...)\n",
    "    # Create a `choicemap` that models addresses `(:y, i)` to observed values `ys[i]`.\n",
    "    #   We leave `:slope` and `:intercept` unconstracted because we want them to be\n",
    "    #   inferred.\n",
    "    observations = Gen.choicemap()\n",
    "    for (idx, y) in enumerate(ys)\n",
    "        observations[(:y, idx)] = y\n",
    "    end\n",
    "    \n",
    "    # Call `importance_resampling` to obtain a likely trace consistent with our\n",
    "    #   observations.\n",
    "    (trace, _) = Gen.importance_resampling(model, (xs, args...,), observations, steps)\n",
    "    return trace\n",
    "end;"
   ]
  },
  {
   "cell_type": "code",
   "execution_count": null,
   "id": "ca43e026",
   "metadata": {
    "tags": []
   },
   "outputs": [],
   "source": [
    "trace = infer(linear_model, xs, ys, 100)\n",
    "render_line(trace, \"importance-resampling\")"
   ]
  },
  {
   "cell_type": "markdown",
   "id": "2db5f762-c256-41bc-a5a1-1151983f0bdc",
   "metadata": {},
   "source": [
    "We can see above that `importance_resampling` found a reasonable slope and\n",
    "intercept to explain our data. Like we did in previous code blocks, we can\n",
    "also generate many traces and visualize them in a grid."
   ]
  },
  {
   "cell_type": "code",
   "execution_count": null,
   "id": "6dcf0fa9",
   "metadata": {},
   "outputs": [],
   "source": [
    "traces = [infer(linear_model, xs, ys, 100) for _=1:12]\n",
    "Intro.render_grid(render_line, traces, title=\"IR\")"
   ]
  },
  {
   "cell_type": "markdown",
   "id": "0ca556fd-cff3-4383-8494-ae7c094ac8c6",
   "metadata": {},
   "source": [
    "Inspecting the grid above, it's clear that we have enough uncertainty to not be\n",
    "$100\\%$ certain where the line truly is. However, we can refine our\n",
    "understanding of the variability in the posterior by visualizing all the traces\n",
    "atop one another, rather than individually.\n",
    "\n",
    "Since each trace has the same observed data, we'll only plot it once, based on\n",
    "of the first trace."
   ]
  },
  {
   "cell_type": "code",
   "execution_count": null,
   "id": "fb1083e6-f572-4a66-a95a-0012f863558e",
   "metadata": {},
   "outputs": [],
   "source": [
    "# n_steps = 100"
   ]
  },
  {
   "cell_type": "markdown",
   "id": "78e7fe82-b200-45be-84e0-4699c9918904",
   "metadata": {},
   "source": [
    "### Exercise: Run `linear_model` with `1`, `10`, and `1000` steps\n",
    "\n",
    "We achieve the results above with `steps = 100`. Try running our inference with\n",
    "`steps = [1, 10, 1_000]`. **Which values seem like a good tradeoff between\n",
    "accuracy and run time?**"
   ]
  },
  {
   "cell_type": "code",
   "execution_count": null,
   "id": "0a6a6d31-9db9-481d-bfe0-9b33d4f25f00",
   "metadata": {},
   "outputs": [],
   "source": [
    "# n_steps = 1"
   ]
  },
  {
   "cell_type": "code",
   "execution_count": null,
   "id": "c5149cca-d70b-4f04-9783-f23b32c0a166",
   "metadata": {},
   "outputs": [],
   "source": [
    "# n_steps = 10"
   ]
  },
  {
   "cell_type": "code",
   "execution_count": null,
   "id": "76380be8-0abe-4d6e-8932-d2b0e543aae2",
   "metadata": {},
   "outputs": [],
   "source": [
    "# n_steps = 1_000"
   ]
  },
  {
   "cell_type": "markdown",
   "id": "63d0783a-9458-4e0d-af5a-6c5ef51ece1c",
   "metadata": {},
   "source": [
    "### Example: Consider the following dataset\n",
    "\n",
    "Let's write an inference program to generate traces of `sine` that explain this\n",
    "dataset. Visualize the distribution of traces.\n",
    "\n",
    "Let's also change the prior distribution of the period to be `gamma(1, 1)`, too.\n",
    "\n",
    "- Can you explain the difference in inference when using `period` priors of `gamma(1, 1)` vs `gamma(5, 1)`?\n",
    "- How many `steps` were needed to achieve good results?"
   ]
  },
  {
   "cell_type": "code",
   "execution_count": null,
   "id": "3f8f120a-1301-4622-b426-c242018aea3e",
   "metadata": {},
   "outputs": [],
   "source": [
    "sine_ys = [2.89, 2.22, -0.612, -0.522, -2.65, -0.133, 2.70, 2.77, 0.425, -2.11, -2.76]\n",
    "scatter(xs, sine_ys, color=:red, size=(600, 600))"
   ]
  },
  {
   "cell_type": "code",
   "execution_count": null,
   "id": "91b090ea-9cc1-443d-9ca5-b0ca50005e6d",
   "metadata": {},
   "outputs": [],
   "source": [
    "@gen function sine(xs::Vector{Float64}, shape::Int=5)::Int\n",
    "    # CODE HERE\n",
    "end\n",
    ";"
   ]
  },
  {
   "cell_type": "code",
   "execution_count": null,
   "id": "868269c1-04f3-4a84-9d28-a1fcb819c633",
   "metadata": {},
   "outputs": [],
   "source": [
    "sin1_traces = [infer(sine, xs, sine_ys, 500, 1) for _=1:12]\n",
    "Intro.render_grid(render_sine, sin1_traces; title=\"γ1-sine\")"
   ]
  },
  {
   "cell_type": "code",
   "execution_count": null,
   "id": "0b3f1fcc-0641-4795-9138-58f2ead77b95",
   "metadata": {},
   "outputs": [],
   "source": [
    "sin5_traces = [infer(sine, xs, sine_ys, 500, 5) for _=1:12]\n",
    "Intro.render_grid(render_sine, sin5_traces; title=\"γ5-sine\")"
   ]
  },
  {
   "cell_type": "markdown",
   "id": "3249a66a-450f-4cda-b20f-b1169720c2c9",
   "metadata": {},
   "source": [
    "## Predicting new data\n",
    "\n",
    "We can use `Gen.generate` to generate a trace where certain random choices are\n",
    "constrained to given values. This is done by way of a `Gen.choicemap`."
   ]
  },
  {
   "cell_type": "code",
   "execution_count": null,
   "id": "6e8ba32e-f984-4a87-bba1-41562d485cd7",
   "metadata": {},
   "outputs": [],
   "source": [
    "# constraints\n",
    "\n",
    "# render line"
   ]
  },
  {
   "cell_type": "markdown",
   "id": "ac7a0025-777a-4976-a9f4-7981a60a829b",
   "metadata": {},
   "source": [
    "Note that the points above are still generated randomly. _Run the cell a few\n",
    "times to verify this._\n",
    "\n",
    "We can use this ability to constrain executions to predict the values of the\n",
    "$y$-coordinates at new $x$-coordinates by running new executions of the `model`.\n",
    "Let's inspect the `predict` function below. It takes a `trace` and a `Vector` of\n",
    "new $x$-coordinates, then returns a `Vector` of predicted $y$-coordinates\n",
    "corresponding to the `new_xs`.\n",
    "\n",
    "The `addresses` parameter allows us to use `predict` with an arbitrary model."
   ]
  },
  {
   "cell_type": "code",
   "execution_count": null,
   "id": "8c837fd6-3b6d-425f-a1c8-a60832daa12e",
   "metadata": {},
   "outputs": [],
   "source": [
    "function predict(\n",
    "        model::Gen.DynamicDSLFunction, trace::Gen.DynamicDSLTrace,\n",
    "        new_xs::Vector{Float64}, addresses::Vector{Symbol}\n",
    "    )\n",
    "    # Copy parameter values from the inferred `trace` into a new `choicemap`.\n",
    "    \n",
    "    # Run the model with new x coordinates, and parameters fixed to inferred values\n",
    "    \n",
    "    # Extract y values and return them\n",
    "end\n",
    ";"
   ]
  },
  {
   "cell_type": "markdown",
   "id": "50d98236-708d-4141-95d3-1a5fac828475",
   "metadata": {},
   "source": [
    "The cell below defines a composite function that performs inference on an\n",
    "observed dataset `(xs, ys)`, then runs `predict` to generate predicted\n",
    "$y$-coordinates. This process generates `num_traces`, returning a `Matrix` of\n",
    "predicted $y$-coordinates."
   ]
  },
  {
   "cell_type": "code",
   "execution_count": null,
   "id": "8e7eebe7-838a-40d2-a30f-13e76f25f640",
   "metadata": {},
   "outputs": [],
   "source": [
    "function infer_and_predict(\n",
    "        model::Gen.DynamicDSLFunction,\n",
    "        xs::Vector{Float64},\n",
    "        ys::Vector{Float64},\n",
    "        new_xs::Vector{Float64},\n",
    "        n_traces::Int,\n",
    "        n_steps::Int,\n",
    "        addresses::Vector{Symbol},\n",
    "    )\n",
    "    \n",
    "    # run inference and prediction, for `n_traces`\n",
    "    pred_ys = []\n",
    "    \n",
    "    for _=1:n_traces\n",
    "        trace = infer(model, xs, ys, n_steps)\n",
    "        push!(pred_ys, predict(model, trace, new_xs, addresses))\n",
    "    \n",
    "    end\n",
    "    return pred_ys\n",
    "end\n",
    ";"
   ]
  },
  {
   "cell_type": "code",
   "execution_count": null,
   "id": "0fe713d4-d66a-4971-beb7-5372283c41a8",
   "metadata": {},
   "outputs": [],
   "source": [
    "function plot_predictions(xs::Vector, ys::Vector, new_xs::Vector, pred_ys::Vector)\n",
    "    p = plot(size=(600, 600))\n",
    "    \n",
    "    for pred_y in pred_ys\n",
    "        p = scatter!(new_xs, pred_y, color=:black, alpha=0.3, legend=false)\n",
    "    end\n",
    "    \n",
    "    p = scatter!(xs, ys, color=:red)\n",
    "    return p\n",
    "end\n",
    ";"
   ]
  },
  {
   "cell_type": "code",
   "execution_count": null,
   "id": "66116852-e24d-44d9-b9b6-31f6af913123",
   "metadata": {},
   "outputs": [],
   "source": [
    "scatter(xs, ys, color=:red, size=(600, 600))"
   ]
  },
  {
   "cell_type": "markdown",
   "id": "e08a9920-3b68-4d43-b0c9-80c418310df3",
   "metadata": {},
   "source": [
    "We can use the inferred values of the paramters to predict $y$ coordinates for\n",
    "$x$ coordinates from $[5, 10]$ (from which data was not observed). We can also\n",
    "predict data within a new $[-5, 5]$ to compare against our originally observed\n",
    "data.\n",
    "\n",
    "Predicting new data from inferred parameters, then comparing this new data to\n",
    "the observed data is the core idea behind _posterior predictive check_. We won't\n",
    "provide a rigorous overview behind techniques for checking the quality of a\n",
    "model, but intent to provide a high-level intuition."
   ]
  },
  {
   "cell_type": "code",
   "execution_count": null,
   "id": "9cf3164c-5f62-4628-97ff-a8c2a9a958a9",
   "metadata": {},
   "outputs": [],
   "source": [
    "new_xs = collect(range(-5, 10; length=100))\n",
    "pred_ys = infer_and_predict(linear_model, xs, ys, new_xs, 20, 1_000, [:slope, :intercept])\n",
    "plot_predictions(xs, ys, new_xs, pred_ys)"
   ]
  },
  {
   "cell_type": "markdown",
   "id": "1335cec8-0e33-4efc-b848-19b45c9ec093",
   "metadata": {},
   "source": [
    "The results we see above look quite reasonable – both in the observed data as\n",
    "well as the extrapolated predictions on the right.\n",
    "\n",
    "Let's run the same experiment, but with more noisy data."
   ]
  },
  {
   "cell_type": "code",
   "execution_count": null,
   "id": "2c55cb25-9d3a-4499-b0fd-7eb0cf98aa3d",
   "metadata": {},
   "outputs": [],
   "source": [
    "noisy_ys = [5.092, 4.781, 2.46815, 1.23047, 0.903318, 1.11819, 2.10808, 1.09198, 0.0203789, -2.05068, 2.66031]\n",
    "\n",
    "pred_ys = infer_and_predict(linear_model, xs, noisy_ys, new_xs, 20, 1_000, [:slope, :intercept])\n",
    "plot_predictions(xs, noisy_ys, new_xs, pred_ys)"
   ]
  },
  {
   "cell_type": "markdown",
   "id": "b58a37f0-d6c8-4d43-a088-d0175c62da53",
   "metadata": {},
   "source": [
    "It seems like the data `linear_model` generates is less noisy that our data\n",
    "actually is. This model seems overconfident and is a sign that our model is\n",
    "mis-specified.\n",
    "\n",
    "In our case, this is because we've assumed that the noise has a value of $0.1$.\n",
    "However, it seems like the actual noise in our data is much larger. We can\n",
    "correct this, though, by making noise a random choise as well and inferring its\n",
    "value along with the other parameters.\n",
    "\n",
    "This new version will sample a random choice from a `gamma(1, 1)` prior."
   ]
  },
  {
   "cell_type": "code",
   "execution_count": null,
   "id": "882d5bf6-ba8e-4211-995a-af64ddbc3eb1",
   "metadata": {},
   "outputs": [],
   "source": [
    "@gen function noisy_linear_model(xs::Vector{Float64})::Nothing    \n",
    "    # reproduce linear_model, but with a `noise` sampled from `gamma(1, 1)`\n",
    "end\n",
    ";"
   ]
  },
  {
   "cell_type": "markdown",
   "id": "16406e17-92be-4260-a5b2-ee391ec3884e",
   "metadata": {},
   "source": [
    "Now let's compare the predictions using `infer_and_predict` on the original\n",
    "`linear_model` and the `noisy_linear_model` on our `ys` data."
   ]
  },
  {
   "cell_type": "code",
   "execution_count": null,
   "id": "4889631e-2fa4-45b7-abbf-8d212acc66e4",
   "metadata": {},
   "outputs": [],
   "source": [
    "inf_args = [xs, ys, new_xs, 20, 1_000]\n",
    "plt_args = inf_args[1:3]\n",
    "pred_ys = infer_and_predict(linear_model, inf_args..., [:slope, :intercept])\n",
    "linear_model_plot = plot_predictions(plt_args..., pred_ys)\n",
    "title!(\"Fixed noise level\")\n",
    "\n",
    "pred_ys = infer_and_predict(noisy_linear_model, inf_args..., [:slope, :intercept, :slope])\n",
    "noisy_linear_model_plot = plot_predictions(plt_args..., pred_ys)\n",
    "title!(\"Inferred noise level\")\n",
    "\n",
    "plot(\n",
    "    linear_model_plot, noisy_linear_model_plot,\n",
    "    layout=(1, 2), size=(800, 400),\n",
    ")"
   ]
  },
  {
   "cell_type": "markdown",
   "id": "8183e80f-f6a5-45c0-b81f-289d0031bf6a",
   "metadata": {},
   "source": [
    "Notice that there's more uncertainty in the predictions made using our\n",
    "`noisy_linear_model`.\n",
    "\n",
    "Let's also compare these predictions against our `noisy_ys` dataset."
   ]
  },
  {
   "cell_type": "code",
   "execution_count": null,
   "id": "409454b1-d8a1-4ec6-9004-c9091b108220",
   "metadata": {},
   "outputs": [],
   "source": [
    "inf_args = [xs, noisy_ys, new_xs, 20, 1_000]\n",
    "plt_args = inf_args[1:3]\n",
    "addresses = [:slope, :intercept]\n",
    "\n",
    "pred_ys = infer_and_predict(linear_model, inf_args..., addresses)\n",
    "linear_model_plot = plot_predictions(plt_args..., pred_ys)\n",
    "title!(\"Fixed noise level\")\n",
    "\n",
    "pred_ys = infer_and_predict(noisy_linear_model, inf_args..., [addresses..., :slope])\n",
    "noisy_linear_model_plot = plot_predictions(plt_args..., pred_ys)\n",
    "title!(\"Inferred noise level\")\n",
    "\n",
    "plot(\n",
    "    linear_model_plot, noisy_linear_model_plot,\n",
    "    layout=(1, 2), size=(800, 400),\n",
    ")"
   ]
  },
  {
   "cell_type": "markdown",
   "id": "aee2d7f1-df84-48ed-aa5f-07f47a5c5a77",
   "metadata": {},
   "source": [
    "Notice that our `linear_model` is overconfident (as demonstrated earlier), but\n",
    "our `noisy_linear_model` contains much more uncertainty (as it should) while\n",
    "still capturing the negative trend of our data."
   ]
  },
  {
   "cell_type": "markdown",
   "id": "ac4ef9eb-ca47-48f0-878a-6ffa93ac9859",
   "metadata": {},
   "source": [
    "### Exercise: Modify `sine` to make noisy predictions"
   ]
  },
  {
   "cell_type": "code",
   "execution_count": null,
   "id": "d6ddd0a3-ca94-451f-8cf8-afd9cc139e03",
   "metadata": {},
   "outputs": [],
   "source": [
    "@gen function noisy_sine_model(xs::Vector{Float64})\n",
    "    # rewrite `sine_model`, but with `noise` sampled from `gamma(1, 1)`\n",
    "end;"
   ]
  },
  {
   "cell_type": "code",
   "execution_count": null,
   "id": "8460d25e-bb1d-4631-9f95-543ff2115a7f",
   "metadata": {},
   "outputs": [],
   "source": [
    "inf_args = [xs, sine_ys, new_xs, 20, 100]\n",
    "plt_args = inf_args[1:3]\n",
    "addresses = [:phase, :period, :amplitude]\n",
    "\n",
    "pred_ys = infer_and_predict(sine_model, inf_args..., addresses)\n",
    "sine_model_plot = plot_predictions(plt_args..., pred_ys)\n",
    "title!(\"Fixed noise level\")\n",
    "\n",
    "pred_ys = infer_and_predict(noisy_sine_model, inf_args..., [addresses..., :noise])\n",
    "noisy_sine_model_plot = plot_predictions(plt_args..., pred_ys)\n",
    "title!(\"Inferred noise level\")\n",
    "\n",
    "plot(\n",
    "    sine_model_plot, noisy_sine_model_plot;\n",
    "    layout=(1, 2),size=(800, 400),\n",
    ")"
   ]
  },
  {
   "cell_type": "code",
   "execution_count": null,
   "id": "3e1884e5-c979-4424-84ce-12aff35579e3",
   "metadata": {},
   "outputs": [],
   "source": [
    "inf_args = [xs, noisy_ys, new_xs, 20, 100]\n",
    "plt_args = inf_args[1:3]\n",
    "addresses = [:phase, :period, :amplitude]\n",
    "\n",
    "pred_ys = infer_and_predict(sine_model, inf_args..., addresses)\n",
    "sine_model_plot = plot_predictions(plt_args..., pred_ys)\n",
    "title!(\"Fixed noise level\")\n",
    "\n",
    "pred_ys = infer_and_predict(noisy_sine_model, inf_args..., [addresses..., :noise])\n",
    "noisy_sine_model_plot = plot_predictions(plt_args..., pred_ys)\n",
    "title!(\"Inferred noise level\")\n",
    "\n",
    "plot(\n",
    "    sine_model_plot, noisy_sine_model_plot;\n",
    "    layout=(1, 2),size=(800, 400),\n",
    ")"
   ]
  },
  {
   "cell_type": "markdown",
   "id": "32b673e6-25d2-4e39-b99f-cbc2aee82c21",
   "metadata": {},
   "source": [
    "The model with the noise inference is more able to avoid making inaccurate\n",
    "overconfident predictions on the dataset (`noisy_ys`) for which the model’s\n",
    "assumptions are violated."
   ]
  },
  {
   "cell_type": "markdown",
   "id": "581e7b38-5b94-4efb-9cf9-6d9afd286ca7",
   "metadata": {},
   "source": [
    "## Calling other generative functions\n",
    "\n",
    "Along with making random choices, generative functions may call other functions.\n",
    "Let's illustrate this by combining our `linear_model` and `sine_model`. This\n",
    "new model will use either `linear_model` or `sine_model` to explain data, based\n",
    "on a coin flip. This is called _model selection_.\n",
    "\n",
    "In `Gen`, we may call generative functions in three ways:\n",
    "1. using Julia's regular function call syntax\n",
    "1. using `@trace` with an address: `@trace(<func>, <address>)`\n",
    "1. using `@trace` without an address: `@trace(<func>)`\n",
    "\n",
    "When invoking using Julia's regular function call syntax, **random choices made\n",
    "by the called function _will not be traced_.** However, if we use `@trace`, we\n",
    "will be able to trace random choices. Using `@trace(<func>)` (without an\n",
    "address), random choices made in the called function are placed in the same\n",
    "namespace as the caller's random choices. When using `@trace(<func>, <addr>)`,\n",
    "the random choices are placed under the namespace given by `<addr>`."
   ]
  },
  {
   "cell_type": "code",
   "execution_count": null,
   "id": "9ef789cc-e764-45ea-a7ea-90df2ee6263b",
   "metadata": {},
   "outputs": [],
   "source": [
    "@gen function callee()\n",
    "    y ~ normal(0, 1)\n",
    "end;\n",
    "\n",
    "@gen function caller()\n",
    "    x ~ bernoulli(0.5)\n",
    "    @trace(callee())\n",
    "end;\n",
    "\n",
    "@gen function namespaced()\n",
    "    x ~ bernoulli(0.5)\n",
    "    namespaced ~ callee()\n",
    "end;"
   ]
  },
  {
   "cell_type": "markdown",
   "id": "51bf104f-0561-4aa9-8691-9b1d33ce73d5",
   "metadata": {},
   "source": [
    "We first show the addresses sampled by `caller`:"
   ]
  },
  {
   "cell_type": "code",
   "execution_count": null,
   "id": "13c87059-b3ad-4f87-afbe-c13e3f24d177",
   "metadata": {},
   "outputs": [],
   "source": [
    "trace = Gen.simulate(caller, ())\n",
    "display(Gen.get_choices(trace))"
   ]
  },
  {
   "cell_type": "markdown",
   "id": "bd3a0c57-e764-4d2a-9509-cc140f11cc75",
   "metadata": {},
   "source": [
    "And the addresses sampled by `namespaced`:"
   ]
  },
  {
   "cell_type": "code",
   "execution_count": null,
   "id": "2a6d7d00-9b45-4b29-b92d-b692f0bf2703",
   "metadata": {},
   "outputs": [],
   "source": [
    "trace = Gen.simulate(namespaced, ())\n",
    "display(Gen.get_choices(trace))"
   ]
  },
  {
   "cell_type": "markdown",
   "id": "e5c0adcc-042b-48fb-bf2b-32a6b2b8ae28",
   "metadata": {},
   "source": [
    "Using `@trace` with a namespace can help avoid address collisions for complex models.\n",
    "\n",
    "A hierarchical address is represented as a Julia `Pair`, where the first element of the pair is the first element of the address and the second element of the pair is the rest of the address:"
   ]
  },
  {
   "cell_type": "code",
   "execution_count": null,
   "id": "93bc88ae-7ac1-4710-b069-8d3fbac68315",
   "metadata": {},
   "outputs": [],
   "source": [
    "trace[Pair(:namespaced, :y)]"
   ]
  },
  {
   "cell_type": "markdown",
   "id": "25d6060a-a816-478b-af7c-92864ec3a81f",
   "metadata": {},
   "source": [
    "Julia uses the `=>` operator as a shorthand for the `Pair` constructor, so we can access choices at hierarchical addresses like:"
   ]
  },
  {
   "cell_type": "code",
   "execution_count": null,
   "id": "1f6cbce0-5042-4223-a9c5-f2811ead31a8",
   "metadata": {},
   "outputs": [],
   "source": [
    "trace[:namespaced => :y]"
   ]
  },
  {
   "cell_type": "markdown",
   "id": "d65520ac-729a-461b-bbd9-ee1cb7a01996",
   "metadata": {},
   "source": [
    "If we have a hierarchical address with more than two elements, we can construct the address by chaining the `=>` operator:"
   ]
  },
  {
   "cell_type": "code",
   "execution_count": null,
   "id": "e931ac3f-142b-4b42-93bc-9372a848c259",
   "metadata": {},
   "outputs": [],
   "source": [
    "@gen function namespaced_namespace()\n",
    "    @trace(namespaced(), :parent)\n",
    "end;\n",
    "\n",
    "trace = Gen.simulate(namespaced_namespace, ())\n",
    "display(trace[:parent => :namespaced => :y])"
   ]
  },
  {
   "cell_type": "markdown",
   "id": "e3f31d40-1801-435b-a8c0-47017374722e",
   "metadata": {},
   "source": [
    "Note that the `=>` operator associated right, so this is equivalent to:"
   ]
  },
  {
   "cell_type": "code",
   "execution_count": null,
   "id": "701f552c-8bc5-4b1d-95b9-69764916c01a",
   "metadata": {},
   "outputs": [],
   "source": [
    "trace[Pair(:parent, Pair(:namespaced, :y))]"
   ]
  },
  {
   "cell_type": "markdown",
   "id": "9a491b25-8221-4f57-a0e1-069084d1dd83",
   "metadata": {},
   "source": [
    "Now, we write a generative function that combies the line and sine models. It makes a Bernoulli random choice (e.g. a coin flip that returns true or false) that determines which of the two models will generate the data."
   ]
  },
  {
   "cell_type": "code",
   "execution_count": null,
   "id": "fc12ee6e-fb7b-46c0-8bdc-4c070faca2c5",
   "metadata": {},
   "outputs": [],
   "source": [
    "@gen function combined_model(xs::Vector{Float64})\n",
    "    if @trace(bernoulli(0.5), :isline)\n",
    "        @trace(noisy_linear_model(xs))\n",
    "    else\n",
    "        @trace(noisy_sine_model(xs))\n",
    "    end\n",
    "end;"
   ]
  },
  {
   "cell_type": "markdown",
   "id": "3caf01ff-a147-4579-a953-d3fcfd992706",
   "metadata": {},
   "source": [
    "We also write a visualization for a trace of this function:"
   ]
  },
  {
   "cell_type": "code",
   "execution_count": null,
   "id": "206577ed-8a53-49af-bc82-c7ce40afc918",
   "metadata": {},
   "outputs": [],
   "source": [
    "function render_combined(trace, title=\"\"; show_points=true, kwargs...)\n",
    "    p = plot(size=(600, 600))\n",
    "    if trace[:isline]\n",
    "        p = render_line(trace, \"isline\"; show_points=show_points, kwargs...)\n",
    "    else\n",
    "        p = render_sine(trace, \"issine\"; show_points=show_points, kwargs...)\n",
    "    end\n",
    "    return p\n",
    "end;"
   ]
  },
  {
   "cell_type": "code",
   "execution_count": null,
   "id": "9af05c93-be6b-42ee-aee9-ae52701c6bd9",
   "metadata": {},
   "outputs": [],
   "source": [
    "traces = map(_ -> Gen.simulate(combined_model, (xs,)), 1:12)\n",
    "Intro.render_grid(render_combined, traces)"
   ]
  },
  {
   "cell_type": "markdown",
   "id": "e38ff669-2f99-4619-89e5-2a40812b7bc4",
   "metadata": {},
   "source": [
    "We run inference using this combined model on the `ys` data set and the `sine_ys` dataset."
   ]
  },
  {
   "cell_type": "code",
   "execution_count": null,
   "id": "a680110c-31fe-4dc5-8f2f-e80bd2758c3a",
   "metadata": {},
   "outputs": [],
   "source": [
    "traces = map(_ -> infer(combined_model, xs, ys, 10_000), 1:10)\n",
    "p1 = Intro.render_overlay(render_combined, traces)\n",
    "\n",
    "traces = map(_ -> infer(combined_model, xs, sine_ys, 10_000), 1:10)\n",
    "p2 = Intro.render_overlay(render_combined, traces)\n",
    "\n",
    "plot(\n",
    "    p1, p2;\n",
    "    layout=(1, 2), legend=false, size=(800, 400),\n",
    ")"
   ]
  },
  {
   "cell_type": "markdown",
   "id": "5fa1b06e-82da-458d-8ffe-68fe1858be6e",
   "metadata": {},
   "source": [
    "The results should show that the line model was inferred for the `ys` dataset, and the sine wave model was inferred for the `sine_ys` data set."
   ]
  },
  {
   "cell_type": "code",
   "execution_count": null,
   "id": "a96c15f3-26d1-4f19-af2b-e9ba90760829",
   "metadata": {},
   "outputs": [],
   "source": []
  }
 ],
 "metadata": {
  "kernelspec": {
   "display_name": "Julia 1.6.0",
   "language": "julia",
   "name": "julia-1.6"
  },
  "language_info": {
   "file_extension": ".jl",
   "mimetype": "application/julia",
   "name": "julia",
   "version": "1.6.0"
  },
  "widgets": {
   "application/vnd.jupyter.widget-state+json": {
    "state": {},
    "version_major": 2,
    "version_minor": 0
   }
  }
 },
 "nbformat": 4,
 "nbformat_minor": 5
}
