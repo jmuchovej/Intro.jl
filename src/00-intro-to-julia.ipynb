{
 "cells": [
  {
   "cell_type": "markdown",
   "id": "987195e1-0a39-400d-b091-08179f70be57",
   "metadata": {},
   "source": [
    "# Intro.jl\n",
    "\n",
    "By: John Muchovej"
   ]
  },
  {
   "cell_type": "markdown",
   "id": "13b365c7-3287-48b7-b058-79a9179ad117",
   "metadata": {},
   "source": [
    "<div class=\"alert alert-danger\">\n",
    "    <h4> Fundamental assumptions </h4>\n",
    "    <ul>\n",
    "        <li> You've programmed in Python, R, or MATLAB. </li>\n",
    "        <li>\n",
    "            You're familiar with concepts in statistics, linear algebra, and\n",
    "            machine learning.\n",
    "        </li>\n",
    "    </ul>\n",
    "</div>"
   ]
  },
  {
   "cell_type": "markdown",
   "id": "1f2a89e6-0249-403c-9306-e59acc9c3bc9",
   "metadata": {},
   "source": [
    "<div class=\"alert alert-info\">\n",
    "    <h4> Overview </h4>\n",
    "    <p style=\"margin: 0;\">\n",
    "        This notebook is meant to be a whirlwind tour of Julia, contrasting it\n",
    "        to Python, R, and MATLAB. Julia also has a \n",
    "        <a href=\"https://docs.julialang.org/en/v1/manual/getting-started/\">\n",
    "            phenomenal manual to help get you started as well\n",
    "        </a>.\n",
    "        \n",
    "        We will also explore:\n",
    "    </p>\n",
    "    <ul style=\"margin: 0;\">\n",
    "        <li> plotting with <code>Plots.jl</code> and </li>\n",
    "        <li> parallel computing with multi-threading/multi-processing. </li>\n",
    "<!--         <li> data analysis with <code>DataFrames.jl</code>, and </li> -->\n",
    "<!--         <li> machine learning <code>Flux.jl</code>. </li> -->\n",
    "    </ul>\n",
    "</div>"
   ]
  },
  {
   "cell_type": "markdown",
   "id": "f56d1373-c584-4d78-8a23-3604f331f89a",
   "metadata": {},
   "source": [
    "<hr style=\"border: solid 1px rgba(0, 0, 0, 0.2);\" />\n",
    "\n",
    "Julia is a relatively recent programming language[<sup id=\"b1\">1</sup>](#f1)\n",
    "tailored towards scientific and mathematical computing. Julia follows the\n",
    "[**multiple dispatch**][md-wiki] programming paradigm[<sup id=\"b2\">2</sup>](#f2).\n",
    "Other notable features of Julia are:\n",
    "- incedible speed (with **first-class parallel computing support**),\n",
    "- first-class support for linear algebra,\n",
    "- no classes (Julia uses `Struct`s but functions are not tied to them),\n",
    "- **optional typing**[<sup id=\"b3\">3</sup>](#f3), and\n",
    "- broad Unicode support[<sup id=\"b4\">4</sup>](#f4).\n",
    "\n",
    "Julia draws inspiration from many languages, notably Python, R, MATLAB, Ruby,\n",
    "C/C++, Common Lisp, and Dalton. The syntax is highly Python and Ruby inspired,\n",
    "while the functional structure is very much inspired by R, MATLAB, and Common\n",
    "Lisp.\n",
    "\n",
    "1. [<span id=\"f1\">[back]</span>](#b1) Julia was originally released in 2012 but\n",
    "   only reached v1.0 in 2018.\n",
    "1. [<span id=\"f2\">[back]</span>](#b2) Briefly, multiple dispatch uses the _type_\n",
    "   of the argument to infer _which_ function to call. This allows for many\n",
    "   functions of the same name to be specified and to dynamically interact with\n",
    "   varying datatypes. _We'll inspect this more deeply later._\n",
    "1. [<span id=\"f3\">[back]</span>](#b3) Optionally typed languages infer data\n",
    "   types but still allow programmers to specify data types.\n",
    "1. [<span id=\"f4\">[back]</span>](#b4) This means that variables and\n",
    "   expressions like `θ` and `3π` are valid Julia code (whereas the Python\n",
    "   equivalents would be `theta` and `3 * math.pi`).\n",
    "\n",
    "[md-wiki]: https://en.wikipedia.org/wiki/Multiple_dispatch\n",
    "\n",
    "<hr style=\"border: solid 1px rgba(0, 0, 0, 0.2);\" />"
   ]
  },
  {
   "cell_type": "markdown",
   "id": "a002307b-cdfe-4e52-806e-c3a0d2c5bbf3",
   "metadata": {},
   "source": [
    "<div class=\"alert alert-warning\">\n",
    "    <h4> Usability tip! </h4>\n",
    "    <p>\n",
    "        When using Julia in a REPL-like (Read, Evaluate, Print Loop)\n",
    "        environment, you can put a <code>;</code> to omit the last line's value.\n",
    "    </p>\n",
    "    <p>\n",
    "        <em>The Julia console, Jupyter Notebooks, and <code>Pluto.jl</code>\n",
    "        Notebooks are REPL-like environments.</em>\n",
    "    </p>\n",
    "</div>"
   ]
  },
  {
   "cell_type": "markdown",
   "id": "278a38ba-9850-40a4-932e-917dbb2f98ca",
   "metadata": {},
   "source": [
    "## Variables, Types, &amp; Strictness"
   ]
  },
  {
   "cell_type": "markdown",
   "id": "f06492c4-0770-48a1-8f7e-429f0c7c9ead",
   "metadata": {},
   "source": [
    "Much like Python, R, and MATLAB – Julia does not require you to specify a data\n",
    "type when creating variables. Julia will infer the type on the fly.\n",
    "Julia does not strictly type variables, allowing for on-the-fly reassignment.\n",
    "\n",
    "Like Python (and unlike R and MATLAB), Julia derives all types from a base type.\n",
    "In Python, this base type is `object` – in Julia it's `Any`."
   ]
  },
  {
   "cell_type": "code",
   "execution_count": null,
   "id": "82e24c3f-87a4-4ee7-a41c-939cbbe1ac3b",
   "metadata": {},
   "outputs": [],
   "source": []
  },
  {
   "cell_type": "markdown",
   "id": "6769fe3b-409b-4763-89ef-93f566776177",
   "metadata": {},
   "source": [
    "As you can see above, we've set `blicket` to both a `Bool` and `Int64` datatype with no\n",
    "complaints. Additionally, we've printed these values using Julia's `println` function.\n",
    "\n",
    "If you're familiar with Python's \"F-strings\" (Python 3.7+), Julia will parse strings\n",
    "similarly, trading `${value}` for `$value` when printing a variable and `$(value)`\n",
    "when attempting to apply a function to `value` or access an attribute."
   ]
  },
  {
   "cell_type": "markdown",
   "id": "1a312903-0092-4cbd-97c5-d1812ffa8873",
   "metadata": {},
   "source": [
    "<div class=\"alert alert-info\">\n",
    "    <p> What's with this <code>&lt;blah&gt;64</code> funny business? </p>\n",
    "    \n",
    "    <blockquote>\n",
    "        As with any programming language, we're constraint in represenation.\n",
    "        Julia lets you know of the underlying representation (e.g. 64 for\n",
    "        64-bits) explicitly. Depending on your data's range, you may grow or\n",
    "        shrink these values by using the `convert` function.\n",
    "    </blockquote>\n",
    "</div>"
   ]
  },
  {
   "cell_type": "code",
   "execution_count": null,
   "id": "b065ac32-b761-4633-917a-3f3da30126fb",
   "metadata": {},
   "outputs": [],
   "source": []
  },
  {
   "cell_type": "markdown",
   "id": "0c0ea60d-87f8-4d7f-92ca-8882f7a1012f",
   "metadata": {},
   "source": [
    "The above code fails to convert `512` to an `Int8` because the numerical range\n",
    "of 8-bit integers is `2 ^ 8 = 256` (and by-default integers are \"signed\"). This\n",
    "means the smallest datatype to support `512` will be `Int16`.\n",
    "\n",
    "[Here's a helpful table][ranges.jl] on the numerical ranges of `Int` and `Float`.\n",
    "\n",
    "[ranges.jl]: https://docs.julialang.org/en/v1/manual/integers-and-floating-point-numbers/"
   ]
  },
  {
   "cell_type": "markdown",
   "id": "eadfc8a0-b33c-434e-9eb6-60ea62b4364a",
   "metadata": {},
   "source": [
    "On some occassions, you might also need to convert from `Float` to `Int`. While\n",
    "Python, R, and MATLAB will handle just about any value nicely, Julia is a bit\n",
    "pickier."
   ]
  },
  {
   "cell_type": "code",
   "execution_count": null,
   "id": "87afb74c-3af0-4c50-93fa-a7d7412ec9f9",
   "metadata": {},
   "outputs": [],
   "source": []
  },
  {
   "cell_type": "markdown",
   "id": "fb0f54db-775f-4c1c-923f-659fdb38e0a4",
   "metadata": {},
   "source": [
    "To allow for this, you should instead use the `trunc` function to \"truncate\" the\n",
    "representation. Then you can proceed with type-conversion."
   ]
  },
  {
   "cell_type": "code",
   "execution_count": null,
   "id": "1e69beb0-20f1-408d-8d30-54749c64adf5",
   "metadata": {},
   "outputs": [],
   "source": []
  },
  {
   "cell_type": "markdown",
   "id": "be157541-7993-4551-8143-3bfb71a72e81",
   "metadata": {},
   "source": [
    "## Data Structures (Tuples, Dictionaries, Arrays, Slicing, and Broadcasting)"
   ]
  },
  {
   "cell_type": "markdown",
   "id": "a59d7cd4-d059-47cf-9697-6a33cc00716e",
   "metadata": {},
   "source": [
    "### Arrays (`Array`)\n",
    "\n",
    "In Julia, Arrays come in 3 flavors, `Vector`, `Matrix`, and `Array`. Really, \n",
    "`Vector` and `Matrix` are [syntactic sugar][sugar] creating special cases of\n",
    "`Array`. Like R and MATLAB, Julia is **column major**. This means that indexing\n",
    "works across columns rather than rows (like Python).\n",
    "\n",
    "The primary utility of column major representations is that linear algebra\n",
    "programs implement the exact formulations specified mathematically. For\n",
    "instance, consider \n",
    "\n",
    "$$A\\vec{x} = b$$\n",
    "\n",
    "In Julia, R, and MATLAB you would write something like `A * x` to get `b`,\n",
    "whereas Python would require you to write something like `transpose(A) * x`.\n",
    "\n",
    "[sugar]: https://en.wikipedia.org/wiki/Syntactic_sugar\n",
    "\n",
    "More on the difference between `Array` and `Vector`,\n",
    "[from StackOverflow][array-vector.so].\n",
    "\n",
    "[array-vector.so]: https://stackoverflow.com/questions/61171531/difference-between-array-and-vector"
   ]
  },
  {
   "cell_type": "code",
   "execution_count": null,
   "id": "de134eb4-4a64-4818-aa03-e25625bdd49d",
   "metadata": {},
   "outputs": [],
   "source": []
  },
  {
   "cell_type": "code",
   "execution_count": null,
   "id": "f86b2e6a-61ad-4049-b54e-2509c76a7100",
   "metadata": {},
   "outputs": [],
   "source": []
  },
  {
   "cell_type": "code",
   "execution_count": null,
   "id": "e515fe8f-9292-4405-9de7-4468a08f4fb2",
   "metadata": {},
   "outputs": [],
   "source": []
  },
  {
   "cell_type": "markdown",
   "id": "d8578498-9428-4971-83e8-4b9a15e87ec8",
   "metadata": {},
   "source": [
    "To create a matrix, we can use an \"enumerative\" approach where each row is\n",
    "space-delimited and columns are semicolon-delimited. We can also use sequences\n",
    "and Julia's `reshape` function to achieve similar results (the \"functional\"\n",
    "approach).\n",
    "\n",
    "**Consider Line 1:** This is the \"enumerative\" approach.\n",
    "\n",
    "**Consider Line 2:** Here we use the `reshape(<sequence>, (<shape>))` function\n",
    "to create a 3x3 `Matrix`."
   ]
  },
  {
   "cell_type": "code",
   "execution_count": null,
   "id": "cea795c5-65df-4d91-9a23-f19ebd3859d3",
   "metadata": {},
   "outputs": [],
   "source": []
  },
  {
   "cell_type": "markdown",
   "id": "464c5be7-2593-4e9b-880f-5f81e0b8788e",
   "metadata": {},
   "source": [
    "Notice, though, we have different signatures when using the enumerative and\n",
    "\"functional\" approaches. We can coherence the functional approach by using\n",
    "`collect`, which expands generative sequences into vectors."
   ]
  },
  {
   "cell_type": "code",
   "execution_count": null,
   "id": "6e167863-7b8e-4644-b015-57b9eec3037d",
   "metadata": {},
   "outputs": [],
   "source": []
  },
  {
   "cell_type": "code",
   "execution_count": null,
   "id": "a92979cb-8a3e-4719-8567-1f81f35ad8b9",
   "metadata": {},
   "outputs": [],
   "source": []
  },
  {
   "cell_type": "code",
   "execution_count": null,
   "id": "669d1bd2-9df0-40ba-9885-f1192fd5ef79",
   "metadata": {},
   "outputs": [],
   "source": []
  },
  {
   "cell_type": "markdown",
   "id": "a5db50b7-2354-46ee-93d6-df6ce9be8615",
   "metadata": {},
   "source": [
    "#### Indexing &amp; Slicing\n",
    "\n",
    "Sometimes you want to retrieve a subset of an `Array`. Like Python, R, and\n",
    "MATLAB, Julia supports `slicing`. However, Julia mimics MATLAB in indexing (we\n",
    "start counting from `1` instead of `0`). Further, Julia takes inspiration from\n",
    "Python's negative indexing, however we must use the `end` keyword."
   ]
  },
  {
   "cell_type": "code",
   "execution_count": null,
   "id": "57eadca4-d2c2-449a-a373-2662842e24da",
   "metadata": {},
   "outputs": [],
   "source": []
  },
  {
   "cell_type": "code",
   "execution_count": null,
   "id": "46b599f6-b6bb-46cc-8918-f11f4512b4f5",
   "metadata": {},
   "outputs": [],
   "source": []
  },
  {
   "cell_type": "markdown",
   "id": "d5154fff-06cc-40ee-90f2-a7d0a4ab1066",
   "metadata": {},
   "source": [
    "While Python supports access like `array[1:]` and `array[-1]`, Julia requires\n",
    "you to write `end` in each. This ends up implemented as:"
   ]
  },
  {
   "cell_type": "code",
   "execution_count": null,
   "id": "19ee4581-7b41-4a02-aed1-d9f8edad1d5f",
   "metadata": {},
   "outputs": [],
   "source": []
  },
  {
   "cell_type": "code",
   "execution_count": null,
   "id": "6bb11712-c380-42ad-8985-0129c3a16287",
   "metadata": {},
   "outputs": [],
   "source": []
  },
  {
   "cell_type": "markdown",
   "id": "2eeca5f0-155e-4572-957c-73ac87d0a8c1",
   "metadata": {},
   "source": [
    "Of course, you could also write `B[:, :, 2:size(B)[3]]`, but that becomes\n",
    "quite cumbersome to mentally parse, compared to `end`.\n",
    "\n",
    "Additionally, you can treat `end` as a variable, performing arithmetic on it."
   ]
  },
  {
   "cell_type": "code",
   "execution_count": null,
   "id": "b2c8314f-1b73-45b4-bab1-86b579d1e272",
   "metadata": {},
   "outputs": [],
   "source": []
  },
  {
   "cell_type": "markdown",
   "id": "da71aa08-dd93-426f-96b0-9a47f3ceedb3",
   "metadata": {},
   "source": [
    "##### Aside: Julia's indexing quirks\n",
    "\n",
    "**Consider Line 1:** `64` is clearly out-of-bounds of `A`'s 4x4x4 shape, but Julia\n",
    "accepts this index because it is still within bounds of the vector\n",
    "representation.\n",
    "\n",
    "**Consider Line 2:** Julia raises a `BoundsError` because `65 > 64` which is the\n",
    "size of `A`'s vector representation."
   ]
  },
  {
   "cell_type": "code",
   "execution_count": null,
   "id": "61cfd843-1bae-4719-9ce7-0924e22be59e",
   "metadata": {},
   "outputs": [],
   "source": []
  },
  {
   "cell_type": "markdown",
   "id": "eb55557e-394a-4b77-adb6-c17efb3385df",
   "metadata": {},
   "source": [
    "Unlike Python's `numpy`, though, you must specify all axes you wish to select\n",
    "from, otherwise Julia will retrieve that single value."
   ]
  },
  {
   "cell_type": "code",
   "execution_count": null,
   "id": "7a9344c2-b9e3-4cc1-b3da-36278e8cc819",
   "metadata": {},
   "outputs": [],
   "source": []
  },
  {
   "cell_type": "markdown",
   "id": "d85a44a4-d515-4f2e-9d80-c944b97066f5",
   "metadata": {},
   "source": [
    "Recall that Julia is column major (like R and MATLAB), so this means the above\n",
    "indexing will extract the first column of each `Matrix` rather than the first\n",
    "row as you would expect in Python (and many other programming languages).\n",
    "\n",
    "If, instead of the first column, we want a 2x2 chunk of each `Matrix`, we can\n",
    "use slicing to achieve this."
   ]
  },
  {
   "cell_type": "code",
   "execution_count": null,
   "id": "46f5eb04-aa8f-43b3-a2d2-0e27a7e022fe",
   "metadata": {},
   "outputs": [],
   "source": []
  },
  {
   "cell_type": "markdown",
   "id": "c357868a-d109-47ec-a181-c93cd0c4a775",
   "metadata": {},
   "source": [
    "Like R and MATLAB (and unlike Python), Julia's range bounds include the\n",
    "upper-bound."
   ]
  },
  {
   "cell_type": "markdown",
   "id": "e85cdd9f-7410-417d-ac49-8d747643c34f",
   "metadata": {},
   "source": [
    "#### Broadcasting"
   ]
  },
  {
   "cell_type": "markdown",
   "id": "fd85657f-d7e3-43a8-934e-8251aa356109",
   "metadata": {},
   "source": [
    "Broadcasting allows for element-wise operations. This is both a usability and performance optimization because it sidesteps the need to ensure `Array`s match along all dimensions when doing unary operations (e.g. `*`, `+`)."
   ]
  },
  {
   "cell_type": "code",
   "execution_count": null,
   "id": "f816ee98-894a-4e8a-8c45-f7b139f12341",
   "metadata": {},
   "outputs": [],
   "source": []
  },
  {
   "cell_type": "code",
   "execution_count": null,
   "id": "a1496092-bb80-4bab-88f7-e9d32651aa70",
   "metadata": {},
   "outputs": [],
   "source": []
  },
  {
   "cell_type": "code",
   "execution_count": null,
   "id": "05288bf9-c62a-40b8-b370-0607ba39c8dd",
   "metadata": {},
   "outputs": [],
   "source": []
  },
  {
   "cell_type": "code",
   "execution_count": null,
   "id": "999ea4cd-096b-4847-ba61-856e533192d0",
   "metadata": {},
   "outputs": [],
   "source": []
  },
  {
   "cell_type": "code",
   "execution_count": null,
   "id": "1a164494-1f53-444f-bcc4-d848a848f4c6",
   "metadata": {},
   "outputs": [],
   "source": []
  },
  {
   "cell_type": "code",
   "execution_count": null,
   "id": "96fe0fdd-5e95-4988-a49b-d383174cc3b7",
   "metadata": {},
   "outputs": [],
   "source": []
  },
  {
   "cell_type": "code",
   "execution_count": null,
   "id": "bb5bc06b-6951-4115-b22e-d9b9541767ca",
   "metadata": {},
   "outputs": [],
   "source": []
  },
  {
   "cell_type": "code",
   "execution_count": null,
   "id": "9e2e8be1-f93f-4c72-ac7a-2dd2094b8b61",
   "metadata": {},
   "outputs": [],
   "source": []
  },
  {
   "cell_type": "markdown",
   "id": "0b9e0655-b45d-4aa1-acfe-2f15af093ee0",
   "metadata": {},
   "source": [
    "### Tuples (`Tuple`)\n",
    "\n",
    "Like Python and R, Tuples are immutable sequences. Like Python's\n",
    "`collections.namedtuple`, you may also create named tuples in Julia."
   ]
  },
  {
   "cell_type": "code",
   "execution_count": null,
   "id": "6d8c0c40-a4e1-4ea4-8609-b908c73ff505",
   "metadata": {},
   "outputs": [],
   "source": []
  },
  {
   "cell_type": "code",
   "execution_count": null,
   "id": "8f2b732c-63ad-46aa-81a7-3a1e95ed366a",
   "metadata": {},
   "outputs": [],
   "source": []
  },
  {
   "cell_type": "markdown",
   "id": "07d1e0d7-c6ee-49f1-bfc9-15e3f4501854",
   "metadata": {},
   "source": [
    "Accessing tuples is just like accessing arrays, using the 1-based index of the\n",
    "sequence."
   ]
  },
  {
   "cell_type": "code",
   "execution_count": null,
   "id": "9d976444-3b52-4777-89fe-dfa9f6be51f0",
   "metadata": {},
   "outputs": [],
   "source": []
  },
  {
   "cell_type": "markdown",
   "id": "3e1a8ea9-1c58-4772-beae-f95e34d3af05",
   "metadata": {},
   "source": [
    "However, named Tuples may be accessed using the index _or_ the name of the\n",
    "index (key)."
   ]
  },
  {
   "cell_type": "code",
   "execution_count": null,
   "id": "2c675046-89a7-4f82-ae6d-5c8632e65cec",
   "metadata": {},
   "outputs": [],
   "source": []
  },
  {
   "cell_type": "code",
   "execution_count": null,
   "id": "1cb981df-af19-4392-b9b7-8313d2ac461b",
   "metadata": {},
   "outputs": [],
   "source": []
  },
  {
   "cell_type": "code",
   "execution_count": null,
   "id": "a497476b-ba12-4155-932a-3725b316cbb1",
   "metadata": {},
   "outputs": [],
   "source": []
  },
  {
   "cell_type": "markdown",
   "id": "ede52838-bde2-4eee-bacf-eae26d763ac2",
   "metadata": {},
   "source": [
    "### Dictionaries (`Dict`)\n",
    "\n",
    "Like Python (`dict`), R (`names(v)`), MATLAB (`containers.Map`) – Julia has a\n",
    "`Dict` data structure that allows for storing data with keys that don't quite\n",
    "fit the intent of Arrays.\n",
    "\n",
    "However, borrowing from LISP and Ruby, Julia supports `Symbol`s. Symbols are\n",
    "created using colons (`:`). `Symbol`s are actually use in\n",
    "[metaprogramming][meta.jl], however, our uses for `Symbol`s will be restricted\n",
    "to `Dict` keys (along with other possibilities).\n",
    "\n",
    "[meta.jl]: https://docs.julialang.org/en/v1/manual/metaprogramming/\n",
    "\n",
    "For more on metaprogramming, [inspect the Wikipedia article here][meta.wiki].\n",
    "More on the use of `Symbol`s, [from StackOverflow][meta.so].\n",
    "\n",
    "[meta.wiki]: https://en.wikipedia.org/wiki/Metaprogramming\n",
    "[meta.so]: https://stackoverflow.com/questions/23480722/what-is-a-symbol-in-julia"
   ]
  },
  {
   "cell_type": "code",
   "execution_count": null,
   "id": "4118e955-2e29-4855-80e9-2c70b5d8c81a",
   "metadata": {},
   "outputs": [],
   "source": []
  },
  {
   "cell_type": "code",
   "execution_count": null,
   "id": "6cca6108-3767-41b7-bc0c-10218290de7b",
   "metadata": {},
   "outputs": [],
   "source": []
  },
  {
   "cell_type": "markdown",
   "id": "8ff3ad0b-ef75-449e-bf3e-7fd457875eb1",
   "metadata": {},
   "source": [
    "<div class=\"alert alert-danger\">\n",
    "    <p>What happened to <code>2.0</code>???</p>\n",
    "    \n",
    "    <blockquote>\n",
    "        Julia only accepted <code>2.0</code> because it could\n",
    "        <code>convert</code> while retaining accuracy.\n",
    "    </blockquote>\n",
    "</div>"
   ]
  },
  {
   "cell_type": "code",
   "execution_count": null,
   "id": "87c3bcab-2dac-4a4a-a9b0-0296bb819da6",
   "metadata": {},
   "outputs": [],
   "source": []
  },
  {
   "cell_type": "markdown",
   "id": "ee8e5a33-0b2f-4604-863c-fe84e4b5a1be",
   "metadata": {},
   "source": [
    "However, we can specify the data type when creating a `Dict` to avoid these\n",
    "errors.\n",
    "\n",
    "<div class=\"alert alert-warning\">\n",
    "    <h4>Performance tip!</h4>\n",
    "    <p> \n",
    "        While using <code>Any</code> is great for programmer UX, you'll pay the\n",
    "        price in performance and when attempting to leverage multiple dispatch.\n",
    "    </p>\n",
    "</div>"
   ]
  },
  {
   "cell_type": "code",
   "execution_count": null,
   "id": "d754cda9-09da-4136-bec7-781da68a8a30",
   "metadata": {},
   "outputs": [],
   "source": []
  },
  {
   "cell_type": "markdown",
   "id": "0e2f2262-3145-4920-bc01-9535a7c4f2ac",
   "metadata": {},
   "source": [
    "**Aside:** You can nest `Dict`s (infinitely). However, you might want to\n",
    "consider using alternate representations like `Struct`s. (For those familiar\n",
    "with object-oriented programming, these are like classes without the methods.)"
   ]
  },
  {
   "cell_type": "code",
   "execution_count": null,
   "id": "a108943e-ab4a-423d-bfe6-f54ddb49714a",
   "metadata": {},
   "outputs": [],
   "source": []
  },
  {
   "cell_type": "code",
   "execution_count": null,
   "id": "833a12b3-7a8b-440e-852e-1d567e353c27",
   "metadata": {},
   "outputs": [],
   "source": []
  },
  {
   "cell_type": "markdown",
   "id": "d133a401-51f2-4d2b-93df-d75436248446",
   "metadata": {},
   "source": [
    "## Functions\n",
    "\n",
    "In most cases, when you find yourself repeating code, it's ideal to construct\n",
    "functions. Defining functions is largely inspired by Ruby's syntax, but \n",
    "optionally supports type annotations as well (this is **imperitive for multiple\n",
    "dispatch**)."
   ]
  },
  {
   "cell_type": "markdown",
   "id": "229da0c7-2d7a-4261-86f2-de1cffcd2d55",
   "metadata": {},
   "source": [
    "### Void Functions"
   ]
  },
  {
   "cell_type": "code",
   "execution_count": null,
   "id": "a4955be9-53dd-4c5d-ac15-753e7a2aa124",
   "metadata": {},
   "outputs": [],
   "source": []
  },
  {
   "cell_type": "code",
   "execution_count": null,
   "id": "937f99e0-23e4-4ed7-a2e3-46230f8982b2",
   "metadata": {},
   "outputs": [],
   "source": []
  },
  {
   "cell_type": "markdown",
   "id": "c1f10a37-6747-4dfd-9901-92923411cc7f",
   "metadata": {},
   "source": [
    "The above is a **void function**, which is a function that takes no arguments\n",
    "and returns no values."
   ]
  },
  {
   "cell_type": "markdown",
   "id": "927f48db-ee46-41cb-8480-178f36c0e4a5",
   "metadata": {},
   "source": [
    "### Positional Arguments\n",
    "\n",
    "As you know, positional arguments must be provided in an expected order. Failure\n",
    "to do so will yield incorrect results (or even break the function)."
   ]
  },
  {
   "cell_type": "code",
   "execution_count": null,
   "id": "d1d01483-a7fd-4043-9920-d728d3cdf045",
   "metadata": {},
   "outputs": [],
   "source": []
  },
  {
   "cell_type": "code",
   "execution_count": null,
   "id": "f4e66f65-b806-4d91-9862-131d36180690",
   "metadata": {},
   "outputs": [],
   "source": []
  },
  {
   "cell_type": "code",
   "execution_count": null,
   "id": "d70fe710-a09f-4393-bee3-9f862e35ec0b",
   "metadata": {},
   "outputs": [],
   "source": []
  },
  {
   "cell_type": "code",
   "execution_count": null,
   "id": "f9a62de7-0ac3-4977-98f3-a34444343704",
   "metadata": {},
   "outputs": [],
   "source": []
  },
  {
   "cell_type": "code",
   "execution_count": null,
   "id": "abdb2d18-6717-4f60-a445-d8901f531533",
   "metadata": {},
   "outputs": [],
   "source": []
  },
  {
   "cell_type": "markdown",
   "id": "6afc6134-7656-4c38-8c1f-52c1f71071a9",
   "metadata": {},
   "source": [
    "### Keyword Arguments\n",
    "\n",
    "Just like Python, R, and MATLAB – you can provide named arguments to Julia\n",
    "functions. However, unlike Python, named arguments cannot be inferred from\n",
    "positional arguments."
   ]
  },
  {
   "cell_type": "code",
   "execution_count": null,
   "id": "9fb153af-1d7f-4a23-a692-f20e4d35075b",
   "metadata": {},
   "outputs": [],
   "source": []
  },
  {
   "cell_type": "code",
   "execution_count": null,
   "id": "9d60ee22-93ac-483b-8be5-742f6567e8c3",
   "metadata": {},
   "outputs": [],
   "source": []
  },
  {
   "cell_type": "code",
   "execution_count": null,
   "id": "4072aa38-b2c0-4841-9037-968c92333955",
   "metadata": {},
   "outputs": [],
   "source": []
  },
  {
   "cell_type": "markdown",
   "id": "087fb880-1ce2-4852-b296-edd85087c8de",
   "metadata": {},
   "source": [
    "### Combining Positional &amp; Keyword Arguments"
   ]
  },
  {
   "cell_type": "code",
   "execution_count": null,
   "id": "6ce6ab96-2ad3-41dc-bac2-02f789428d66",
   "metadata": {},
   "outputs": [],
   "source": []
  },
  {
   "cell_type": "code",
   "execution_count": null,
   "id": "d5480e7a-6457-4954-b533-e1083af0ecc4",
   "metadata": {},
   "outputs": [],
   "source": []
  },
  {
   "cell_type": "code",
   "execution_count": null,
   "id": "bc7d6ed3-8e74-463c-b047-05204e6ced60",
   "metadata": {},
   "outputs": [],
   "source": []
  },
  {
   "cell_type": "code",
   "execution_count": null,
   "id": "fd134760-5508-4b76-91d8-a129a7b05ceb",
   "metadata": {},
   "outputs": [],
   "source": []
  },
  {
   "cell_type": "markdown",
   "id": "16de46b3-179e-4133-acfc-3974bd453ddb",
   "metadata": {},
   "source": [
    "### Default Arguments\n",
    "\n",
    "As with Python, R, and MATLAB – Julia supports default argument values. This\n",
    "applies for both positional and keyword arguments."
   ]
  },
  {
   "cell_type": "code",
   "execution_count": null,
   "id": "bb051f30-4e22-417c-9cb4-e17504b38d2c",
   "metadata": {},
   "outputs": [],
   "source": []
  },
  {
   "cell_type": "code",
   "execution_count": null,
   "id": "dff6fe86-b5a7-4138-8f45-44d8ebbed996",
   "metadata": {},
   "outputs": [],
   "source": []
  },
  {
   "cell_type": "markdown",
   "id": "7178d092-555f-4383-bb8c-8d8eee8e087a",
   "metadata": {},
   "source": [
    "### Iteration Utilities"
   ]
  },
  {
   "cell_type": "markdown",
   "id": "68e48372-3140-49bc-a865-203aacbf7847",
   "metadata": {},
   "source": [
    "Julia supports a wide range of iteration utilities that allow us to side-step\n",
    "writing our of `for` loops. This is useful because Julia's core libraries are\n",
    "highly optimized to use these iteration tools, whereas `for` loops can be harder\n",
    "for the Julia compiler to analyze (and, thus, optimize)."
   ]
  },
  {
   "cell_type": "code",
   "execution_count": null,
   "id": "41fc0879-d33c-430d-9217-cc56e6193789",
   "metadata": {},
   "outputs": [],
   "source": [
    "# Let's create a Vector for use in the following examples"
   ]
  },
  {
   "cell_type": "markdown",
   "id": "508bdf78-a5c1-4f3e-8fb9-6c8ad2904fc7",
   "metadata": {},
   "source": [
    "`filter`'s type signature is the following `filter(f, ls)` where `f` is some\n",
    "function that returns a `Bool` (indicating `true`/`false`). These `Bool` values\n",
    "are used to extract only the values in `ls` which pass the conditions of `f`."
   ]
  },
  {
   "cell_type": "code",
   "execution_count": null,
   "id": "f84b62f7-0375-4c67-919f-d0aac51c3698",
   "metadata": {},
   "outputs": [],
   "source": []
  },
  {
   "cell_type": "markdown",
   "id": "420d371a-363b-4921-a554-0de5439b0926",
   "metadata": {},
   "source": [
    "#### Aside: Anonymous functions\n",
    "Say we don't want to make a named function, but do want to apply a function\n",
    "over some data. Julia supports this, just like Python and\n",
    "R[<sup id=\"ffb1\">1</sup>](#ff1).\n",
    "\n",
    "1. [<span id=\"ff1\">[back]</span>](#ffb1) Technically MATLAB supports \"anonymous\"\n",
    "   functions, but they're still named, whereas Python, R, and Julia support\n",
    "   truly unnamed functions."
   ]
  },
  {
   "cell_type": "code",
   "execution_count": null,
   "id": "8e947922-22e6-4f35-a2c6-d5362d284985",
   "metadata": {},
   "outputs": [],
   "source": []
  },
  {
   "cell_type": "markdown",
   "id": "60db1317-0d34-4398-a0e7-1f100ed0d5e0",
   "metadata": {},
   "source": [
    "Julia has a `do` \"operator\". ;-)"
   ]
  },
  {
   "cell_type": "code",
   "execution_count": null,
   "id": "127d0f2e-5845-485b-b7e4-e7a00ae86ed6",
   "metadata": {},
   "outputs": [],
   "source": []
  },
  {
   "cell_type": "markdown",
   "id": "ffca0c3e-e183-4e9b-a7e5-18cd58a756d1",
   "metadata": {},
   "source": [
    "The elipses above denote that you have data but the line is too long to show, so\n",
    "Julia will show you the beginning and end of a given row (in this case)."
   ]
  },
  {
   "cell_type": "code",
   "execution_count": null,
   "id": "3499e4e0-0a88-4c74-8f7b-b80dee1e80f8",
   "metadata": {},
   "outputs": [],
   "source": []
  },
  {
   "cell_type": "code",
   "execution_count": null,
   "id": "82eea1a5-04df-4e10-a5fb-8cbe550d3d89",
   "metadata": {},
   "outputs": [],
   "source": []
  },
  {
   "cell_type": "markdown",
   "id": "755e5c9a-8fb1-480b-991c-3652d30f6d45",
   "metadata": {},
   "source": [
    "## Multiple Dispatch\n",
    "\n",
    "Programming languages are often designed around a particular paradigm, with\n",
    "other paradigms being achieved, but likely second-class citizens.\n",
    "\n",
    "For instance: Python, R, and MATLAB are all \"multi-paradigm\", but primarily\n",
    "- Python follows the object-oriented paradigm\n",
    "- R follows the array-oriented paradigm\n",
    "- MATLAB follows the functional paradigm\n",
    "\n",
    "In these paradigms, you cannot have multiple functions of the same name, but\n",
    "with different argument types. (Instead, you often have to write unique or\n",
    "wrapper functions to handle this.) The **multiple dispatch** paradigm allows for\n",
    "function resolution based on the argument's types.\n",
    "\n",
    "While this might make you a little type-happy, [Julia recommends specifying the\n",
    "most generic types as possible][types.jl].\n",
    "\n",
    "[types.jl]: https://docs.julialang.org/en/v1/manual/style-guide/#Avoid-writing-overly-specific-types"
   ]
  },
  {
   "cell_type": "code",
   "execution_count": null,
   "id": "695d573a-3b88-43e6-8d85-8cbad8643dbd",
   "metadata": {},
   "outputs": [],
   "source": []
  },
  {
   "cell_type": "code",
   "execution_count": null,
   "id": "0110e0d3-7f23-40c4-ae34-5bbc121a2c88",
   "metadata": {},
   "outputs": [],
   "source": []
  },
  {
   "cell_type": "code",
   "execution_count": null,
   "id": "fb2777ca-1bc8-499f-9fc3-b731dc39bc76",
   "metadata": {},
   "outputs": [],
   "source": []
  },
  {
   "cell_type": "markdown",
   "id": "5310ab8d-a069-45b9-a1d5-2dab0a403f9e",
   "metadata": {},
   "source": [
    "---\n",
    "<span id=\"plotting\"></span>\n",
    "## Plotting with `Plots.jl`\n",
    "\n",
    "Coming from Python, you might be familiar with `plotly` or `matplotlib`.\n",
    "Likewise, coming from R you might be familiar with `ggplot2` (or `plotly`). (And\n",
    "of course, MATLAB's internal plotting library, which `matplotlib` is based on.)\n",
    "\n",
    "Julia has a myriad of similar plotting libraries, but we'll use the `Plots.jl`\n",
    "\"metapackage\" to switch between multiple plotting \"backends\" (libraries\n",
    "`Plots.jl` interfaces with). As a metapackage, `Plots.jl` provides a relatively\n",
    "unified interface to each interface with a function call being the only\n",
    "requirement to switch between backends.\n",
    "\n",
    "For a succinct comparison, take a look at the [`Plots.jl` docs][plots.jl].\n",
    "\n",
    "[plots.jl]: https://docs.juliaplots.org/latest/backends/"
   ]
  },
  {
   "cell_type": "code",
   "execution_count": null,
   "id": "4c388f15-f1ad-4fa5-841c-8d3629976273",
   "metadata": {},
   "outputs": [],
   "source": [
    "using Plots"
   ]
  },
  {
   "cell_type": "code",
   "execution_count": null,
   "id": "21549028-705d-4047-aefc-4e77ac1c7613",
   "metadata": {},
   "outputs": [],
   "source": []
  },
  {
   "cell_type": "code",
   "execution_count": null,
   "id": "7d5d9900-914c-461e-9c62-c9c69a1c17f6",
   "metadata": {},
   "outputs": [],
   "source": []
  },
  {
   "cell_type": "code",
   "execution_count": null,
   "id": "1f46c464-28a5-453b-bb1c-0a6b9df90ecb",
   "metadata": {},
   "outputs": [],
   "source": []
  },
  {
   "cell_type": "code",
   "execution_count": null,
   "id": "fb4ba468-3ac9-4f9a-b6ba-5e156c3243c8",
   "metadata": {},
   "outputs": [],
   "source": []
  },
  {
   "cell_type": "code",
   "execution_count": null,
   "id": "49de0a65-267e-48ce-8506-d1601d85055a",
   "metadata": {},
   "outputs": [],
   "source": []
  },
  {
   "cell_type": "code",
   "execution_count": null,
   "id": "ae17ac5d-6f6e-4628-a54f-d91b1dfb4173",
   "metadata": {},
   "outputs": [],
   "source": []
  },
  {
   "cell_type": "code",
   "execution_count": null,
   "id": "55d5fe74-2232-4de5-b10a-59163a5806c0",
   "metadata": {},
   "outputs": [],
   "source": [
    "using LaTeXStrings"
   ]
  },
  {
   "cell_type": "code",
   "execution_count": null,
   "id": "efa59871-ee89-4b4b-a51b-c4fe1725e0d6",
   "metadata": {},
   "outputs": [],
   "source": []
  },
  {
   "cell_type": "markdown",
   "id": "e5d2fc62-9e27-4099-95cf-1066100a6db7",
   "metadata": {},
   "source": [
    "---\n",
    "<span id=\"parallel\"></span>\n",
    "## Parallel computing with multi-threading/multi-processing\n",
    "\n",
    "Julia is one of few programming languages made with distributed \n",
    "computing[<sup id=\"ffpb1\">1</sup>](#ffp1) in mind. In Julia, multi-threading is\n",
    "a first-class citizen and it relatively easy to implement.\n",
    "\n",
    "However, as Julia has nothing like Python's GIL[<sup id=\"ffpb2\">2</sup>](#ffp2),\n",
    "this makes multi-threading possible (along with, of course, multi-processing).\n",
    "\n",
    "1. [<span id=\"ffp1\">[back]</span>](#ffpb1) Distributed computing refers to\n",
    "   multi-threading and multi-processing. Most programming languages use a single\n",
    "   process for execution (as they were written in the days where single-core\n",
    "   computing was most common). Functionally, this translates to: even if you\n",
    "   have a 4-core/8-thread computer, your code will only use 1-core, at most.\n",
    "1. [<span id=\"ffp2\">[back]</span>](#ffpb2) The \"Global Interpreter Lock\".\n",
    "   Essentially, the GIL prevents multiple threads from running concurrently\n",
    "   (unless using \"thread safe\" data structures). This can be side-stepped by\n",
    "   using multiple _processes_.\n",
    "   \n",
    "   \n",
    "#### Aside: What the diff? Multi-threading vs Multi-processing\n",
    "\n",
    "Broadly, programs may be executed as processes or threads.\n",
    "- **Threads are lightweight**. You can launch infinite threads, though your\n",
    "  processor will only ever run the number of threads equal to your CPU's\n",
    "  \"thread\" count. However, _all Threads share the same memory space_, so you\n",
    "  must be careful when modifying values. This requires the use of\n",
    "  [**synchronization** methods][thread-sync.jl]. **A major drawback of Threads\n",
    "  is that they must be _on the same physical machine_.**\n",
    "- **Processes are great for distributed computing.** This allows for running\n",
    "  our functions on a compute cluster (e.g. a super computer), or on our own\n",
    "  computers. Unlike Threads, Processes have their own memory space, thus don't\n",
    "  require synchronization like Threads do. Though Processes are isolated from\n",
    "  one another, we can still share data between them using various communication\n",
    "  methods.\n",
    "\n",
    "<div class=\"alert alert-warning\">\n",
    "    <h4> Usability &amp; Performance Tip! </h4>\n",
    "    <p> \n",
    "        While <code>Threads</code> are more resource efficient (at the cost of\n",
    "        more maintenance), I recommend using <code>Processes</code> because\n",
    "        debugging parallelized workloads can quickly turn into a debugging\n",
    "        nightmare.\n",
    "    </p>\n",
    "    <p>\n",
    "        <strong>\n",
    "            This strictly applies for research workloads. Production\n",
    "            workloads should strive to minimize resource utilization across the\n",
    "            board.\n",
    "        </strong>\n",
    "    </p>\n",
    "</div>\n",
    "\n",
    "[thread-sync.jl]: https://docs.julialang.org/en/v1/base/multi-threading/#Synchronization"
   ]
  },
  {
   "cell_type": "markdown",
   "id": "5f44f4ed-8b43-40ac-b1d2-b763a962043e",
   "metadata": {},
   "source": [
    "You can inspect the number of threads your container has access to. (This is\n",
    "more important to workloads outside of this tutorial.)"
   ]
  },
  {
   "cell_type": "code",
   "execution_count": null,
   "id": "857c42bb-cd38-4417-9c82-073d5b694840",
   "metadata": {},
   "outputs": [],
   "source": [
    "import Base.Threads\n",
    "\n",
    "println(ENV[\"JULIA_NUM_THREADS\"])\n",
    "println(Threads.nthreads())"
   ]
  },
  {
   "cell_type": "code",
   "execution_count": null,
   "id": "2ee944cf-f477-44eb-b839-9d545f846271",
   "metadata": {},
   "outputs": [],
   "source": [
    "# using Pkg; Pkg.Add(\"BenchmarkTools\")\n",
    "using BenchmarkTools"
   ]
  },
  {
   "cell_type": "markdown",
   "id": "a02aba78-2506-494a-be87-80a828ce9481",
   "metadata": {},
   "source": [
    "### Threading\n",
    "\n",
    "We can spawn Threads in Julia using the `@threads` macro or `@spawn` macro.\n",
    "\n",
    "The `@threads` macro allows us to dispatch multiple function calls to different\n",
    "threads. This is extremely useful when we have multiple values to compute over.\n",
    "\n",
    "However, we might also have cases with recursive functions (or similar), where \n",
    "multiple long-running function calls could be made, to allow these to make use\n",
    "of threads, we can use the `@spawn` macro. \n",
    "\n",
    "**Aside:** Macros are prefixed by `@`.\n",
    "\n",
    "To illustrate this, let's use the naïve solution to computing the `nth`\n",
    "Fibonacci number."
   ]
  },
  {
   "cell_type": "code",
   "execution_count": null,
   "id": "a37edc90-6b4d-46ca-923a-7b8285633861",
   "metadata": {},
   "outputs": [],
   "source": [
    "import Base.Threads"
   ]
  },
  {
   "cell_type": "code",
   "execution_count": null,
   "id": "bc229183-c0df-4c57-8cce-53a4df723048",
   "metadata": {},
   "outputs": [],
   "source": [
    "n_fib = 24\n",
    ";"
   ]
  },
  {
   "cell_type": "code",
   "execution_count": null,
   "id": "c9adfe89-8ca5-4327-8529-f2d179c30adc",
   "metadata": {},
   "outputs": [],
   "source": []
  },
  {
   "cell_type": "code",
   "execution_count": null,
   "id": "173a4d30-afb3-49af-90aa-9198c6751115",
   "metadata": {},
   "outputs": [],
   "source": []
  },
  {
   "cell_type": "markdown",
   "id": "9e5ca83a-5cd2-4566-bdb4-3d03b2acbbf0",
   "metadata": {},
   "source": [
    "Entertainingly, you'll note that spawning as many threads as we do with\n",
    "`fubwiththreads` actually runs more slowly that running plain `fib`. This\n",
    "largely has to do with the overhead in spawning `Threads` __and__ with how\n",
    "simple our computations are.\n",
    "\n",
    "If, for instance, we were solving MDPs using Value Iteration, we would see that\n",
    "using `Threads` would greatly improve performance.\n",
    "\n",
    "**An example using `@threads`.**"
   ]
  },
  {
   "cell_type": "code",
   "execution_count": null,
   "id": "0a282ede-8094-469c-ae6b-3e1f4dcb1f3e",
   "metadata": {
    "scrolled": true,
    "tags": []
   },
   "outputs": [],
   "source": []
  },
  {
   "cell_type": "markdown",
   "id": "d3c3bc2c-e3e7-46b4-82ff-2c57ba8f775d",
   "metadata": {},
   "source": [
    "### Multi-processing\n",
    "\n",
    "Multi-processing in Julia is accomplished using the\n",
    "[`Distributed` module of the standard library][distributed.jl].\n",
    "\n",
    "Like we discussed earlier, multi-processing is like mutlti-threading in terms of\n",
    "\"distribute a workload across many compute cores\", but different in how it does\n",
    "so.\n",
    "\n",
    "The `Distributed` module closely follows the syntax of `Threads` with functions\n",
    "like `fetch` and macros like `@spawn` acting in approximately the same way.\n",
    "\n",
    "[distributed.jl]: https://docs.julialang.org/en/v1/stdlib/Distributed/"
   ]
  },
  {
   "cell_type": "code",
   "execution_count": null,
   "id": "8735d242-9121-45d7-9c92-ba6d31847e05",
   "metadata": {},
   "outputs": [],
   "source": [
    "import Distributed\n",
    "Distributed.addprocs(Threads.nthreads())"
   ]
  },
  {
   "cell_type": "code",
   "execution_count": null,
   "id": "67ef2a5e-00a6-4600-a027-e4897fd360fd",
   "metadata": {},
   "outputs": [],
   "source": []
  },
  {
   "cell_type": "markdown",
   "id": "9e82f26e-73df-4689-907a-0434631a7dc0",
   "metadata": {},
   "source": [
    "Let's try writing a simple function to distribute across all our Processes."
   ]
  },
  {
   "cell_type": "code",
   "execution_count": null,
   "id": "28e8a3e2-7568-442b-8a2d-e70a0399fd6d",
   "metadata": {},
   "outputs": [],
   "source": []
  },
  {
   "cell_type": "markdown",
   "id": "8a293ec7-5592-4ff6-b695-d6527e6c7b49",
   "metadata": {},
   "source": [
    "Recall that every Process runs in isolation from other Processes. Thankfully,\n",
    "`Distributed` provides a macro to ensure resources are accessible by every\n",
    "Process. To do this, we use `Distributed.@everywhere` load our code in manner\n",
    "accessible by all `Distributed` processes."
   ]
  },
  {
   "cell_type": "code",
   "execution_count": null,
   "id": "d464d7f7-4b1c-4c24-9ec5-54b2b75265ae",
   "metadata": {},
   "outputs": [],
   "source": []
  },
  {
   "cell_type": "markdown",
   "id": "676c14e0-5a85-4b69-ab3b-d6e2b23ed3fe",
   "metadata": {},
   "source": [
    "Let's consider the case where we want to perform some computation across\n",
    "multiple processes but collect the results into a single location (like a\n",
    "`Vector` or a `Matrix`)."
   ]
  },
  {
   "cell_type": "code",
   "execution_count": null,
   "id": "bfe20bd6-7848-4a1a-a38d-3c917a448bbe",
   "metadata": {},
   "outputs": [],
   "source": []
  },
  {
   "cell_type": "markdown",
   "id": "db408e55-ae9e-476c-af7f-0f79852198d4",
   "metadata": {},
   "source": [
    "`Distributed.@distributed` is pretty awesome, but let's consider a case where\n",
    "some computations take longer to execute than others. Since\n",
    "`Distributed.@distributed` doesn't perform \"load balancing\", this means if a\n",
    "Process was assigned two values that lead to lots of computation, they'll\n",
    "bottleneck the parallelization.\n",
    "\n",
    "Instead, we can use a function called `Distributed.pmap` to perform\n",
    "load-balancing, since `pmap` provides a single input at a time and greedily\n",
    "assigns work (faster processes end up doing more work). \n",
    "\n",
    "Using `Distributed.pmap` provides two added benefits:\n",
    "1. We don't need to leverage `SharedArrays` to store results.\n",
    "1. We can use it on compute clusters. (Though last, this is likely more\n",
    "   important.)"
   ]
  },
  {
   "cell_type": "code",
   "execution_count": null,
   "id": "c616d0e2-569c-4a3b-89d1-23640cb24eed",
   "metadata": {},
   "outputs": [],
   "source": []
  },
  {
   "cell_type": "markdown",
   "id": "9b8166de-ea5c-42ac-a290-4aa9a6562fb7",
   "metadata": {},
   "source": [
    "As we saw with `fibwiththreads`, sometimes the computation is so quick, we're\n",
    "bottlenecked by overhead like creating Threads (or Processes in our current\n",
    "context) and transferring data.\n",
    "\n",
    "`Distributed.pmap` also accepts a `batch_size` keyword, which allows us to\n",
    "transfer more data to the process then iterate our function over the results."
   ]
  },
  {
   "cell_type": "code",
   "execution_count": null,
   "id": "59871016-5106-4fd0-ad4d-d9f1ba078998",
   "metadata": {},
   "outputs": [],
   "source": []
  },
  {
   "cell_type": "markdown",
   "id": "eaea730e-6f12-4e96-89da-d6274aed5473",
   "metadata": {},
   "source": [
    "Wait, `Distributed.pmap` was supposed to be quite fast, I thought? You're right.\n",
    "However, let's revisit `magicalsin`.\n",
    "\n",
    "```julia\n",
    "function magicsin(x)\n",
    "    sleep(rand())\n",
    "    return x^3 * cos(x)\n",
    "end\n",
    "```\n",
    "We're doing 4 things, 3 of which are quite fast (the arithmetic), whereas the \n",
    "`sleep(rand())` could slow us down up to 1 second. Overall, though, this is a\n",
    "very quick function to evaluation, so it's likely that the ~10ms overhead\n",
    "incurred with creating a Process outweighs the cost of computation.\n",
    "\n",
    "Let's see how batching stacks up, especially considering that transferring a\n",
    "batch of data vs a single point doesn't increase our Process overhead by much.\n",
    "(This assumption is sensitive to the networking infrastructure if you're on a\n",
    "compute cluster.)"
   ]
  },
  {
   "cell_type": "code",
   "execution_count": null,
   "id": "26cd3d21-cdf2-4fbb-af44-edc919ff2533",
   "metadata": {},
   "outputs": [],
   "source": []
  },
  {
   "cell_type": "markdown",
   "id": "4fea4743-8273-4537-bb3a-330d109af6b0",
   "metadata": {},
   "source": [
    "<div class=\"alert alert-success\" style=\"text-align: center;\">\n",
    "    <h2> Thanks for dropping by! </h2>\n",
    "    \n",
    "    <p style=\"text-align: center;\"> \n",
    "        I hope this was a useful tour of the Julia language, plotting, and\n",
    "        parallel computation.\n",
    "    </p>\n",
    "</div>"
   ]
  }
 ],
 "metadata": {
  "kernelspec": {
   "display_name": "Julia 1.6.0",
   "language": "julia",
   "name": "julia-1.6"
  },
  "language_info": {
   "file_extension": ".jl",
   "mimetype": "application/julia",
   "name": "julia",
   "version": "1.6.0"
  },
  "widgets": {
   "application/vnd.jupyter.widget-state+json": {
    "state": {},
    "version_major": 2,
    "version_minor": 0
   }
  }
 },
 "nbformat": 4,
 "nbformat_minor": 5
}
